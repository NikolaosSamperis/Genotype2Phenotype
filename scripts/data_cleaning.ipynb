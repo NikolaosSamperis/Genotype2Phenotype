{
 "cells": [
  {
   "cell_type": "code",
   "execution_count": 17,
   "metadata": {},
   "outputs": [],
   "source": [
    "# Import necessary libraries for data manipulation and file handling\n",
    "import csv  # For handling CSV file operations\n",
    "import glob  # For finding all matching file paths\n",
    "from collections import defaultdict  # For dictionary-like objects with default values\n",
    "from collections import Counter  # For counting hashable items efficiently"
   ]
  },
  {
   "cell_type": "code",
   "execution_count": 18,
   "metadata": {},
   "outputs": [],
   "source": [
    "# Define the directory containing CSV files and the output file path\n",
    "data_dir = \"Group9/9\"  # Path to the directory containing the data files\n",
    "output_file = \"Data/impc_data.csv\"  # Name of the output file where cleaned data will be saved\n",
    "\n",
    "# Get all CSV files in the specified directory\n",
    "csv_files = glob.glob(data_dir + \"/*.csv\")  # List all files with .csv extension in the directory"
   ]
  },
  {
   "cell_type": "code",
   "execution_count": 19,
   "metadata": {},
   "outputs": [],
   "source": [
    "# Initialize a dictionary to hold combined data\n",
    "combined_data = {}\n",
    "\n",
    "# Iterate over all CSV files to merge and clean data\n",
    "for file in csv_files:\n",
    "    with open(file, mode=\"r\") as f:\n",
    "        reader = csv.reader(f)\n",
    "        for row in reader:\n",
    "            # Convert keys and values to lowercase for consistency; handle missing values\n",
    "            key = row[0].lower()  # Convert the key (first column) to lowercase\n",
    "            if row[1].strip():  # Check if the value (second column) is not empty\n",
    "                value = row[1].lower()  # Convert value to lowercase\n",
    "            else:\n",
    "                value = \"--\"  # Assign a placeholder for missing values\n",
    "                print(key + \" \" + file)  # Log the missing value for reference\n",
    "            \n",
    "            # Append the value to the list of values for the corresponding key\n",
    "            if key not in combined_data:\n",
    "                combined_data[key] = []  # Initialize an empty list if the key is new\n",
    "            combined_data[key].append(value)\n",
    "\n",
    "# Convert specific fields to appropriate data types\n",
    "for k, v in combined_data.items():\n",
    "    if k == \"pvalue\":  # Identify the key to be converted\n",
    "        combined_data[k] = [float(i) for i in v]  # Convert each value to a float\n",
    "        # Uncomment the next line to handle values exceeding a threshold (e.g., 1.0)\n",
    "        # combined_data[k] = [None if x > 1.0 else x for x in combined_data[k]]\n",
    "\n",
    "# Remove duplicate values from the lists for each key\n",
    "unique_combined_data = {key: list(set(values)) for key, values in combined_data.items()}  # Ensure uniqueness in the values"
   ]
  },
  {
   "cell_type": "code",
   "execution_count": 20,
   "metadata": {},
   "outputs": [],
   "source": [
    "# Write the combined dictionary to a CSV file\n",
    "with open(output_file, mode=\"w\", newline=\"\") as f:\n",
    "    writer = csv.writer(f)\n",
    "\n",
    "    # Write the header row: keys become the column names\n",
    "    header = list(combined_data.keys())\n",
    "    writer.writerow(header)\n",
    "\n",
    "    # Transpose the dictionary values to rows\n",
    "    max_values = max(len(values) for values in combined_data.values()) \n",
    "    for i in range(max_values):\n",
    "        row = [\n",
    "            combined_data[key][i] if i < len(combined_data[key]) else \"\"\n",
    "            for key in combined_data\n",
    "        ]\n",
    "        writer.writerow(row)"
   ]
  }
 ],
 "metadata": {
  "kernelspec": {
   "display_name": "bioinf",
   "language": "python",
   "name": "python3"
  },
  "language_info": {
   "codemirror_mode": {
    "name": "ipython",
    "version": 3
   },
   "file_extension": ".py",
   "mimetype": "text/x-python",
   "name": "python",
   "nbconvert_exporter": "python",
   "pygments_lexer": "ipython3",
   "version": "3.9.19"
  }
 },
 "nbformat": 4,
 "nbformat_minor": 2
}
